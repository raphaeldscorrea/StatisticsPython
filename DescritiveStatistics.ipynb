{
  "nbformat": 4,
  "nbformat_minor": 0,
  "metadata": {
    "colab": {
      "name": "DescritiveStatistics.ipynb",
      "provenance": [],
      "authorship_tag": "ABX9TyOtcZqX26ba2BrLPHfy6xjm",
      "include_colab_link": true
    },
    "kernelspec": {
      "name": "python3",
      "display_name": "Python 3"
    },
    "language_info": {
      "name": "python"
    }
  },
  "cells": [
    {
      "cell_type": "markdown",
      "metadata": {
        "id": "view-in-github",
        "colab_type": "text"
      },
      "source": [
        "<a href=\"https://colab.research.google.com/github/raphaeldscorrea/StatisticsPython/blob/main/DescritiveStatistics.ipynb\" target=\"_parent\"><img src=\"https://colab.research.google.com/assets/colab-badge.svg\" alt=\"Open In Colab\"/></a>"
      ]
    },
    {
      "cell_type": "code",
      "metadata": {
        "id": "LG3C0YAgv3rj"
      },
      "source": [
        "import seaborn as sns\n",
        "import numpy as np\n",
        "import pandas as pd\n",
        "import statistics"
      ],
      "execution_count": null,
      "outputs": []
    },
    {
      "cell_type": "code",
      "metadata": {
        "id": "XEF68yeZwGO4"
      },
      "source": [
        "filters = ['Perfume', 'Desodorante', 'Sabonete', 'Shampoo', 'Batom', 'Malbec', 'Kit']"
      ],
      "execution_count": null,
      "outputs": []
    },
    {
      "cell_type": "code",
      "metadata": {
        "id": "p6czR67TwO4e"
      },
      "source": [
        "filter_list = []\n",
        "positions = []\n",
        "for f in filters:\n",
        "    samples = np.random.randint(10, 500)\n",
        "    min = np.random.randint(1, 3)\n",
        "    max = np.random.randint(4, 30)\n",
        "    pos = np.random.randint(min, max, samples)\n",
        "    f_list = [f]*samples\n",
        "    \n",
        "    filter_list.extend(f_list)\n",
        "    positions.extend(pos)"
      ],
      "execution_count": null,
      "outputs": []
    },
    {
      "cell_type": "code",
      "metadata": {
        "id": "x7xUJ5i8wbs8"
      },
      "source": [
        "res = {'Filtro': filter_list, 'Posição': positions}\n",
        "df = pd.DataFrame(res)\n",
        "df.head(20)"
      ],
      "execution_count": null,
      "outputs": []
    },
    {
      "cell_type": "code",
      "metadata": {
        "colab": {
          "base_uri": "https://localhost:8080/"
        },
        "id": "EdCcfzwhw3rc",
        "outputId": "0b14b9df-bfd6-434f-c04d-d36c78946904"
      },
      "source": [
        "from statistics import mean, mode, median\n",
        "print('Total:', df['Posição'].count())\n",
        "print('Média:', mean(df['Posição']))\n",
        "print('Mediana:', median(df['Posição']))\n",
        "print('Moda:', mode(df['Posição']))\n"
      ],
      "execution_count": null,
      "outputs": [
        {
          "output_type": "stream",
          "name": "stdout",
          "text": [
            "Total: 1894\n",
            "Média: 9.379619852164732\n",
            "Mediana: 8.0\n",
            "Moda: 6\n"
          ]
        }
      ]
    },
    {
      "cell_type": "code",
      "metadata": {
        "colab": {
          "base_uri": "https://localhost:8080/",
          "height": 297
        },
        "id": "OHhrhezh5hYZ",
        "outputId": "95b5ea74-b0d1-4fb4-ad48-866d3f52eee1"
      },
      "source": [
        "df.groupby('Filtro').count()"
      ],
      "execution_count": null,
      "outputs": [
        {
          "output_type": "execute_result",
          "data": {
            "text/html": [
              "<div>\n",
              "<style scoped>\n",
              "    .dataframe tbody tr th:only-of-type {\n",
              "        vertical-align: middle;\n",
              "    }\n",
              "\n",
              "    .dataframe tbody tr th {\n",
              "        vertical-align: top;\n",
              "    }\n",
              "\n",
              "    .dataframe thead th {\n",
              "        text-align: right;\n",
              "    }\n",
              "</style>\n",
              "<table border=\"1\" class=\"dataframe\">\n",
              "  <thead>\n",
              "    <tr style=\"text-align: right;\">\n",
              "      <th></th>\n",
              "      <th>Posição</th>\n",
              "    </tr>\n",
              "    <tr>\n",
              "      <th>Filtro</th>\n",
              "      <th></th>\n",
              "    </tr>\n",
              "  </thead>\n",
              "  <tbody>\n",
              "    <tr>\n",
              "      <th>Batom</th>\n",
              "      <td>87</td>\n",
              "    </tr>\n",
              "    <tr>\n",
              "      <th>Desodorante</th>\n",
              "      <td>97</td>\n",
              "    </tr>\n",
              "    <tr>\n",
              "      <th>Kit</th>\n",
              "      <td>415</td>\n",
              "    </tr>\n",
              "    <tr>\n",
              "      <th>Malbec</th>\n",
              "      <td>317</td>\n",
              "    </tr>\n",
              "    <tr>\n",
              "      <th>Perfume</th>\n",
              "      <td>140</td>\n",
              "    </tr>\n",
              "    <tr>\n",
              "      <th>Sabonete</th>\n",
              "      <td>309</td>\n",
              "    </tr>\n",
              "    <tr>\n",
              "      <th>Shampoo</th>\n",
              "      <td>469</td>\n",
              "    </tr>\n",
              "  </tbody>\n",
              "</table>\n",
              "</div>"
            ],
            "text/plain": [
              "             Posição\n",
              "Filtro              \n",
              "Batom             87\n",
              "Desodorante       97\n",
              "Kit              415\n",
              "Malbec           317\n",
              "Perfume          140\n",
              "Sabonete         309\n",
              "Shampoo          469"
            ]
          },
          "metadata": {},
          "execution_count": 39
        }
      ]
    },
    {
      "cell_type": "code",
      "metadata": {
        "colab": {
          "base_uri": "https://localhost:8080/",
          "height": 297
        },
        "id": "qQsBeebp55Un",
        "outputId": "23254617-9b61-4b3f-cbaf-e55c7d6ac7e7"
      },
      "source": [
        "df.groupby('Filtro').mean()"
      ],
      "execution_count": null,
      "outputs": [
        {
          "output_type": "execute_result",
          "data": {
            "text/html": [
              "<div>\n",
              "<style scoped>\n",
              "    .dataframe tbody tr th:only-of-type {\n",
              "        vertical-align: middle;\n",
              "    }\n",
              "\n",
              "    .dataframe tbody tr th {\n",
              "        vertical-align: top;\n",
              "    }\n",
              "\n",
              "    .dataframe thead th {\n",
              "        text-align: right;\n",
              "    }\n",
              "</style>\n",
              "<table border=\"1\" class=\"dataframe\">\n",
              "  <thead>\n",
              "    <tr style=\"text-align: right;\">\n",
              "      <th></th>\n",
              "      <th>Posição</th>\n",
              "    </tr>\n",
              "    <tr>\n",
              "      <th>Filtro</th>\n",
              "      <th></th>\n",
              "    </tr>\n",
              "  </thead>\n",
              "  <tbody>\n",
              "    <tr>\n",
              "      <th>Batom</th>\n",
              "      <td>8.413793</td>\n",
              "    </tr>\n",
              "    <tr>\n",
              "      <th>Desodorante</th>\n",
              "      <td>4.319588</td>\n",
              "    </tr>\n",
              "    <tr>\n",
              "      <th>Kit</th>\n",
              "      <td>8.910843</td>\n",
              "    </tr>\n",
              "    <tr>\n",
              "      <th>Malbec</th>\n",
              "      <td>12.545741</td>\n",
              "    </tr>\n",
              "    <tr>\n",
              "      <th>Perfume</th>\n",
              "      <td>5.850000</td>\n",
              "    </tr>\n",
              "    <tr>\n",
              "      <th>Sabonete</th>\n",
              "      <td>10.022654</td>\n",
              "    </tr>\n",
              "    <tr>\n",
              "      <th>Shampoo</th>\n",
              "      <td>2.488273</td>\n",
              "    </tr>\n",
              "  </tbody>\n",
              "</table>\n",
              "</div>"
            ],
            "text/plain": [
              "               Posição\n",
              "Filtro                \n",
              "Batom         8.413793\n",
              "Desodorante   4.319588\n",
              "Kit           8.910843\n",
              "Malbec       12.545741\n",
              "Perfume       5.850000\n",
              "Sabonete     10.022654\n",
              "Shampoo       2.488273"
            ]
          },
          "metadata": {},
          "execution_count": 40
        }
      ]
    },
    {
      "cell_type": "code",
      "metadata": {
        "colab": {
          "base_uri": "https://localhost:8080/",
          "height": 297
        },
        "id": "2A3Sawib55e8",
        "outputId": "53102830-a657-47b0-e62e-f1a5f57e6cfc"
      },
      "source": [
        "df.groupby('Filtro').median()"
      ],
      "execution_count": null,
      "outputs": [
        {
          "output_type": "execute_result",
          "data": {
            "text/html": [
              "<div>\n",
              "<style scoped>\n",
              "    .dataframe tbody tr th:only-of-type {\n",
              "        vertical-align: middle;\n",
              "    }\n",
              "\n",
              "    .dataframe tbody tr th {\n",
              "        vertical-align: top;\n",
              "    }\n",
              "\n",
              "    .dataframe thead th {\n",
              "        text-align: right;\n",
              "    }\n",
              "</style>\n",
              "<table border=\"1\" class=\"dataframe\">\n",
              "  <thead>\n",
              "    <tr style=\"text-align: right;\">\n",
              "      <th></th>\n",
              "      <th>Posição</th>\n",
              "    </tr>\n",
              "    <tr>\n",
              "      <th>Filtro</th>\n",
              "      <th></th>\n",
              "    </tr>\n",
              "  </thead>\n",
              "  <tbody>\n",
              "    <tr>\n",
              "      <th>Batom</th>\n",
              "      <td>8</td>\n",
              "    </tr>\n",
              "    <tr>\n",
              "      <th>Desodorante</th>\n",
              "      <td>4</td>\n",
              "    </tr>\n",
              "    <tr>\n",
              "      <th>Kit</th>\n",
              "      <td>9</td>\n",
              "    </tr>\n",
              "    <tr>\n",
              "      <th>Malbec</th>\n",
              "      <td>13</td>\n",
              "    </tr>\n",
              "    <tr>\n",
              "      <th>Perfume</th>\n",
              "      <td>5</td>\n",
              "    </tr>\n",
              "    <tr>\n",
              "      <th>Sabonete</th>\n",
              "      <td>10</td>\n",
              "    </tr>\n",
              "    <tr>\n",
              "      <th>Shampoo</th>\n",
              "      <td>2</td>\n",
              "    </tr>\n",
              "  </tbody>\n",
              "</table>\n",
              "</div>"
            ],
            "text/plain": [
              "             Posição\n",
              "Filtro              \n",
              "Batom              8\n",
              "Desodorante        4\n",
              "Kit                9\n",
              "Malbec            13\n",
              "Perfume            5\n",
              "Sabonete          10\n",
              "Shampoo            2"
            ]
          },
          "metadata": {},
          "execution_count": 41
        }
      ]
    },
    {
      "cell_type": "code",
      "metadata": {
        "colab": {
          "base_uri": "https://localhost:8080/"
        },
        "id": "YleqAScIzCsA",
        "outputId": "4087e362-63fb-48e3-c212-747a5f8bdcc2"
      },
      "source": [
        "from statistics import pstdev, pvariance\n",
        "print('Percentil 0.25:', df.quantile(0.25))\n",
        "print('Percentil 0.5:', df.quantile(0.5))\n",
        "print('Percentil 0.75:', df.quantile(0.75))\n",
        "print('Percentil 0.9:', df.quantile(0.9))\n",
        "print('Percentil 0.99:', df.quantile(0.99))\n",
        "print('Desvio padrão:', pstdev(df['Posição']))\n",
        "print('Variância:', pvariance(df['Posição']))"
      ],
      "execution_count": null,
      "outputs": [
        {
          "output_type": "stream",
          "name": "stdout",
          "text": [
            "Percentil 0.25: Posição    5.0\n",
            "Name: 0.25, dtype: float64\n",
            "Percentil 0.5: Posição    8.0\n",
            "Name: 0.5, dtype: float64\n",
            "Percentil 0.75: Posição    14.0\n",
            "Name: 0.75, dtype: float64\n",
            "Percentil 0.9: Posição    19.0\n",
            "Name: 0.9, dtype: float64\n",
            "Percentil 0.99: Posição    22.0\n",
            "Name: 0.99, dtype: float64\n",
            "Desvio padrão: 5.908938217535831\n",
            "Variância: 34.91555085865552\n"
          ]
        }
      ]
    },
    {
      "cell_type": "code",
      "metadata": {
        "colab": {
          "base_uri": "https://localhost:8080/",
          "height": 279
        },
        "id": "SfAVLY0t1A44",
        "outputId": "efbdda25-38cf-41fc-ef08-565239c987f9"
      },
      "source": [
        "ax = sns.histplot(df['Posição'])"
      ],
      "execution_count": null,
      "outputs": [
        {
          "output_type": "display_data",
          "data": {
            "image/png": "[encoded data removed]",
            "text/plain": [
              "<Figure size 432x288 with 1 Axes>"
            ]
          },
          "metadata": {
            "needs_background": "light"
          }
        }
      ]
    },
    {
      "cell_type": "code",
      "metadata": {
        "colab": {
          "base_uri": "https://localhost:8080/",
          "height": 254
        },
        "id": "MaP-l57x12w3",
        "outputId": "c79d502a-4410-465c-fe7e-1bf62f29616b"
      },
      "source": [
        "ax = sns.boxplot(y = df['Posição'])"
      ],
      "execution_count": null,
      "outputs": [
        {
          "output_type": "display_data",
          "data": {
            "image/png": "[encoded data removed]",
            "text/plain": [
              "<Figure size 432x288 with 1 Axes>"
            ]
          },
          "metadata": {
            "needs_background": "light"
          }
        }
      ]
    },
    {
      "cell_type": "code",
      "metadata": {
        "colab": {
          "base_uri": "https://localhost:8080/",
          "height": 279
        },
        "id": "1rHA_QtL2Ltz",
        "outputId": "5db3e8e1-ef05-4717-d82c-f3910bc198fa"
      },
      "source": [
        "ax = sns.boxplot(x = df['Filtro'], y = df['Posição'])"
      ],
      "execution_count": null,
      "outputs": [
        {
          "output_type": "display_data",
          "data": {
            "image/png": "[encoded data removed]",
            "text/plain": [
              "<Figure size 432x288 with 1 Axes>"
            ]
          },
          "metadata": {
            "needs_background": "light"
          }
        }
      ]
    }
  ]
}